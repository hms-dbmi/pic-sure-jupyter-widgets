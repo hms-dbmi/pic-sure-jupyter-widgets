{
 "cells": [
  {
   "cell_type": "code",
   "execution_count": 3,
   "metadata": {},
   "outputs": [
    {
     "data": {
      "application/vnd.jupyter.widget-view+json": {
       "model_id": "493b3a44ced04f369a2e77f6a3879abe",
       "version_major": 2,
       "version_minor": 0
      },
      "text/plain": [
       "PicSureLoginWindow(windowURL='http://www.google.com/')"
      ]
     },
     "metadata": {},
     "output_type": "display_data"
    }
   ],
   "source": [
    "from pic_sure_jupyter_widgets import PicSureLoginWindow\n",
    "myLogin = PicSureLoginWindow(windowURL=\"http://www.google.com/\")\n",
    "display(myLogin)"
   ]
  },
  {
   "cell_type": "code",
   "execution_count": null,
   "metadata": {},
   "outputs": [],
   "source": []
  },
  {
   "cell_type": "code",
   "execution_count": 4,
   "metadata": {},
   "outputs": [
    {
     "name": "stdout",
     "output_type": "stream",
     "text": [
      "Endpoint: \n",
      "Resource: \n",
      "   Token: \n"
     ]
    }
   ],
   "source": [
    "print(\"Endpoint: \" + myLogin.endpoint)\n",
    "print(\"Resource: \" + myLogin.resourceUUID)\n",
    "print(\"   Token: \" + myLogin.token)"
   ]
  },
  {
   "cell_type": "code",
   "execution_count": null,
   "metadata": {},
   "outputs": [],
   "source": []
  },
  {
   "cell_type": "code",
   "execution_count": null,
   "metadata": {},
   "outputs": [],
   "source": []
  },
  {
   "cell_type": "code",
   "execution_count": null,
   "metadata": {},
   "outputs": [],
   "source": []
  }
 ],
 "metadata": {
  "kernelspec": {
   "display_name": "Python 3",
   "language": "python",
   "name": "python3"
  },
  "language_info": {
   "codemirror_mode": {
    "name": "ipython",
    "version": 3
   },
   "file_extension": ".py",
   "mimetype": "text/x-python",
   "name": "python",
   "nbconvert_exporter": "python",
   "pygments_lexer": "ipython3",
   "version": "3.7.4"
  }
 },
 "nbformat": 4,
 "nbformat_minor": 4
}
